{
 "cells": [
  {
   "cell_type": "code",
   "execution_count": 1,
   "metadata": {},
   "outputs": [],
   "source": [
    "import pandas as pd\n",
    "import numpy as np\n",
    "\n",
    "seasons = pd.read_csv('Data/nba_player_stats_by_season.csv', index_col = 'id')\n",
    "# careers = pd.read_csv('Data/nba_player_stats_by_career.csv', index_col = 'id')\n",
    "\n",
    "# Create a few extra columns\n",
    "def get_min_age(player_id):\n",
    "    return seasons[seasons['player_id'] == player_id]['age'].min()\n",
    "\n",
    "seasons['min_age'] = seasons['player_id'].apply(get_min_age)\n",
    "# careers['min_age'] = careers['player_id'].apply(get_min_age)\n",
    "\n",
    "# remove seasons with less than 400 minutes (~5 mpg), 3310 in total\n",
    "seasons.dropna(subset=['minutes_played'], inplace = True) # removes 609 seasons where the player didn't play at all\n",
    "seasons = seasons[seasons['minutes_played'] >= 400] # removes another 2701 seasons\n",
    "\n",
    "def get_total_seasons(player_id):\n",
    "    return seasons[seasons['player_id'] == player_id].shape[0]\n",
    "\n",
    "seasons['total_seasons'] = seasons['player_id'].apply(get_total_seasons)\n",
    "\n",
    "def index_seasons(player_id, year):\n",
    "    season_list = list(seasons[seasons['player_id'] == player_id]['year'])\n",
    "    season_list.sort()\n",
    "    return season_list.index(year)\n",
    "\n",
    "seasons['season_index'] = [index_seasons(player_id, year) for player_id,\n",
    "                           year in zip(seasons['player_id'], seasons['year'])]"
   ]
  },
  {
   "cell_type": "code",
   "execution_count": 2,
   "metadata": {},
   "outputs": [],
   "source": [
    "# convert minutes played to % of available minutes played\n",
    "# helps to account for seasons shortened by injury or lockout\n",
    "# assume maximum minutes per game is 40, this helps prevent model from over-predicting minutes.\n",
    "\n",
    "seasons['minutes_proportion'] = seasons['minutes_played'] / (seasons['games_played'] * 40)"
   ]
  },
  {
   "cell_type": "markdown",
   "metadata": {},
   "source": [
    "# Create Training and Testing Sets\n",
    "\n",
    "split on players"
   ]
  },
  {
   "cell_type": "code",
   "execution_count": 3,
   "metadata": {},
   "outputs": [
    {
     "data": {
      "text/plain": [
       "822"
      ]
     },
     "execution_count": 3,
     "metadata": {},
     "output_type": "execute_result"
    }
   ],
   "source": [
    "# creat a list of all players who have a minimum number of seasons, try 5\n",
    "# use these players for model training, cross validation, and testing\n",
    "\n",
    "data = seasons[seasons['total_seasons'] >= 5]\n",
    "player_list = data['player_id'].unique()\n",
    "\n",
    "len(player_list) # 800 players with at least 5 seasons"
   ]
  },
  {
   "cell_type": "code",
   "execution_count": 4,
   "metadata": {},
   "outputs": [
    {
     "name": "stdout",
     "output_type": "stream",
     "text": [
      "training size:  616\n",
      "testing size:  206\n"
     ]
    }
   ],
   "source": [
    "from sklearn.model_selection import train_test_split\n",
    "\n",
    "# Split players into training and test sets\n",
    "train_players_list, test_players_list = train_test_split(player_list, random_state = 42)\n",
    "\n",
    "print(\"training size: \", len(train_players_list))\n",
    "print(\"testing size: \", len(test_players_list))"
   ]
  },
  {
   "cell_type": "code",
   "execution_count": 5,
   "metadata": {},
   "outputs": [
    {
     "name": "stderr",
     "output_type": "stream",
     "text": [
      "/Users/alex/anaconda3/lib/python3.7/site-packages/ipykernel_launcher.py:7: SettingWithCopyWarning: \n",
      "A value is trying to be set on a copy of a slice from a DataFrame.\n",
      "Try using .loc[row_indexer,col_indexer] = value instead\n",
      "\n",
      "See the caveats in the documentation: https://pandas.pydata.org/pandas-docs/stable/user_guide/indexing.html#returning-a-view-versus-a-copy\n",
      "  import sys\n"
     ]
    }
   ],
   "source": [
    "def train_or_test(player_id):\n",
    "    if player_id in train_players_list:\n",
    "        return 'train'\n",
    "    else:\n",
    "        return 'test'\n",
    "\n",
    "data['train_test'] = data['player_id'].apply(train_or_test)"
   ]
  },
  {
   "cell_type": "code",
   "execution_count": 6,
   "metadata": {},
   "outputs": [],
   "source": [
    "# choose columns to use\n",
    "# below is a mostly complete list of basic box score statistics\n",
    "# attempts and percentages can be used to derive makes\n",
    "# makes can be summed with shot value to derive points\n",
    "# defensive and offensive rebounds can be combined for total rebounds\n",
    "\n",
    "keep_cols = ['player_id', 'train_test', 'year', 'min_age', 'total_seasons', 'season_index', 'age', 'minutes_played',\n",
    "             'minutes_proportion', 'two_point_percentage', 'two_point_attempts', 'three_point_percentage',\n",
    "             'three_point_attempts', 'free_throw_percentage', 'free_throw_attempts', 'defensive_rebounds',\n",
    "             'offensive_rebounds', 'assists', 'steals', 'blocks', 'turnovers', 'personal_fouls']\n",
    "\n",
    "data = data[keep_cols]"
   ]
  },
  {
   "cell_type": "markdown",
   "metadata": {},
   "source": [
    "### Account for Small Shooting Sample Sizes"
   ]
  },
  {
   "cell_type": "code",
   "execution_count": 7,
   "metadata": {},
   "outputs": [
    {
     "data": {
      "text/plain": [
       "id\n",
       "clarkga01 2019    0.692\n",
       "clarkga01 2020    0.667\n",
       "millemi01 2015    0.313\n",
       "novakst01 2014    0.333\n",
       "biedran01 2013    0.476\n",
       "cardibr01 2011    0.077\n",
       "Name: two_point_percentage, dtype: float64"
      ]
     },
     "execution_count": 7,
     "metadata": {},
     "output_type": "execute_result"
    }
   ],
   "source": [
    "seasons[seasons['two_point_attempts'] < 25]['two_point_percentage']"
   ]
  },
  {
   "cell_type": "code",
   "execution_count": 8,
   "metadata": {},
   "outputs": [
    {
     "data": {
      "text/plain": [
       "0.0     791\n",
       "1.0     545\n",
       "2.0     383\n",
       "3.0     230\n",
       "4.0     186\n",
       "5.0     142\n",
       "6.0     118\n",
       "7.0     111\n",
       "8.0      73\n",
       "9.0      66\n",
       "10.0     61\n",
       "13.0     55\n",
       "11.0     52\n",
       "12.0     51\n",
       "14.0     45\n",
       "23.0     44\n",
       "15.0     41\n",
       "21.0     40\n",
       "16.0     39\n",
       "17.0     38\n",
       "22.0     38\n",
       "19.0     33\n",
       "20.0     30\n",
       "24.0     24\n",
       "18.0     23\n",
       "Name: three_point_attempts, dtype: int64"
      ]
     },
     "execution_count": 8,
     "metadata": {},
     "output_type": "execute_result"
    }
   ],
   "source": [
    "# Lots of seasons with verys small sample sizes of 3pt shooting, also lots of NaNs\n",
    "seasons[seasons['three_point_attempts'] < 25]['three_point_attempts'].value_counts()"
   ]
  },
  {
   "cell_type": "code",
   "execution_count": 9,
   "metadata": {},
   "outputs": [
    {
     "data": {
      "text/plain": [
       "21.0    30\n",
       "20.0    29\n",
       "24.0    29\n",
       "23.0    26\n",
       "19.0    24\n",
       "22.0    23\n",
       "16.0    21\n",
       "15.0    19\n",
       "18.0    19\n",
       "13.0    16\n",
       "8.0     15\n",
       "14.0    13\n",
       "17.0    13\n",
       "12.0    11\n",
       "11.0    11\n",
       "9.0      9\n",
       "7.0      6\n",
       "10.0     6\n",
       "5.0      6\n",
       "6.0      4\n",
       "4.0      3\n",
       "2.0      1\n",
       "Name: free_throw_attempts, dtype: int64"
      ]
     },
     "execution_count": 9,
     "metadata": {},
     "output_type": "execute_result"
    }
   ],
   "source": [
    "# a few seasons with very low sample size of free throw shooting\n",
    "seasons[seasons['free_throw_attempts'] < 25]['free_throw_attempts'].value_counts()"
   ]
  },
  {
   "cell_type": "code",
   "execution_count": 10,
   "metadata": {},
   "outputs": [],
   "source": [
    "data['three_point_percentage'].fillna(value = 0.12, inplace = True)\n",
    "\n",
    "def fix_low_3pa(attempts, rate):\n",
    "    if attempts <= 5:\n",
    "        return 0.15\n",
    "    \n",
    "    elif attempts <= 15:\n",
    "        if rate >= 0.25:\n",
    "            return 0.25\n",
    "        else:\n",
    "            return np.max([0.12, rate])\n",
    "        \n",
    "    elif attempts <= 25:\n",
    "        if rate >= 0.35:\n",
    "            return 0.35\n",
    "        else:\n",
    "            return np.max([0.1, rate])\n",
    "        \n",
    "    else:\n",
    "        return rate\n",
    "\n",
    "data['three_point_percentage'] = [fix_low_3pa(attempts, rate) for attempts,\n",
    "                                  rate in zip(data['three_point_attempts'], data['three_point_percentage'])]\n",
    "\n",
    "def fix_low_fta(attempts, rate):\n",
    "    if attempts <= 10:\n",
    "        return 0.75\n",
    "    \n",
    "    elif attempts <= 25:\n",
    "        if rate >= 0.8:\n",
    "            return 0.8\n",
    "        else:\n",
    "            return np.max([0.7, rate])\n",
    "        \n",
    "    elif attempts <= 50:\n",
    "        if rate >= 0.85:\n",
    "            return 0.85\n",
    "        else:\n",
    "            return np.max([0.60, rate])\n",
    "        \n",
    "    else:\n",
    "        return rate\n",
    "\n",
    "data['free_throw_percentage'] = [fix_low_fta(attempts, rate) for attempts,\n",
    "                                  rate in zip(data['free_throw_attempts'], data['free_throw_percentage'])]\n",
    "\n",
    "def fix_low_2pa(attempts, rate):\n",
    "    if attempts <= 25:\n",
    "        if rate >= 0.6:\n",
    "            return 0.6\n",
    "        else:\n",
    "            return np.max([0.3, rate])\n",
    "    else:\n",
    "        return rate\n",
    "\n",
    "data['two_point_percentage'] = [fix_low_fta(attempts, rate) for attempts,\n",
    "                                  rate in zip(data['two_point_attempts'], data['two_point_percentage'])]"
   ]
  },
  {
   "cell_type": "code",
   "execution_count": 11,
   "metadata": {},
   "outputs": [],
   "source": [
    "# Multiply three point percentage by 1.8\n",
    "# This will effectively cap three point percentage at 55.5%\n",
    "# Helps prevent model from over-predicting 3pt percentage\n",
    "\n",
    "data['three_point_percentage'] = data['three_point_percentage'] * 1.8"
   ]
  },
  {
   "cell_type": "markdown",
   "metadata": {},
   "source": [
    "### Convert to per 36 Minutes"
   ]
  },
  {
   "cell_type": "code",
   "execution_count": 12,
   "metadata": {},
   "outputs": [],
   "source": [
    "# convert counting stats to per 36 minute\n",
    "data['two_point_attempts'] = data['two_point_attempts'] / data['minutes_played'] * 36\n",
    "data['three_point_attempts'] = data['three_point_attempts'] / data['minutes_played'] * 36\n",
    "data['free_throw_attempts'] = data['free_throw_attempts'] / data['minutes_played'] * 36\n",
    "data['defensive_rebounds'] = data['defensive_rebounds'] / data['minutes_played'] * 36\n",
    "data['offensive_rebounds'] = data['offensive_rebounds'] / data['minutes_played'] * 36\n",
    "data['assists'] = data['assists'] / data['minutes_played'] * 36\n",
    "data['steals'] = data['steals'] / data['minutes_played'] * 36\n",
    "data['blocks'] = data['blocks'] / data['minutes_played'] * 36\n",
    "data['turnovers'] = data['turnovers'] / data['minutes_played'] * 36\n",
    "data['personal_fouls'] = data['personal_fouls'] / data['minutes_played'] * 36"
   ]
  },
  {
   "cell_type": "code",
   "execution_count": 13,
   "metadata": {},
   "outputs": [],
   "source": [
    "# convert proportions to log odds using logit function\n",
    "# define sigmoid function for reverse transformation\n",
    "\n",
    "def logit(p):\n",
    "    if p > 0.95:\n",
    "        p = 0.95\n",
    "    if p < 0.05:\n",
    "        p = 0.05\n",
    "    return np.log(p/(1-p))\n",
    "\n",
    "def sigmoid(x):\n",
    "    return 1 / (1 + np.exp(-x))"
   ]
  },
  {
   "cell_type": "code",
   "execution_count": 14,
   "metadata": {},
   "outputs": [],
   "source": [
    "data['minutes_proportion'] = data['minutes_proportion'].apply(logit)\n",
    "data['two_point_percentage'] = data['two_point_percentage'].apply(logit)\n",
    "data['three_point_percentage'] = data['three_point_percentage'].apply(logit)\n",
    "data['free_throw_percentage'] = data['free_throw_percentage'].apply(logit)"
   ]
  },
  {
   "cell_type": "markdown",
   "metadata": {},
   "source": [
    "### Create Features for Past Performance"
   ]
  },
  {
   "cell_type": "code",
   "execution_count": 15,
   "metadata": {},
   "outputs": [],
   "source": [
    "def create_past_features(features, n, data):\n",
    "    '''\n",
    "    Creates columns in data for previous player performance for input features.\n",
    "    n defines how far back to go.\n",
    "    '''\n",
    "    \n",
    "    def select_past(player_id, feat, season_ix, n):\n",
    "        \n",
    "        if season_ix - n < 0:\n",
    "            return np.NaN\n",
    "        \n",
    "        else:\n",
    "            mask = np.array(data['player_id'] == player_id) & np.array(data['season_index'] == season_ix - n)\n",
    "            return data[mask][feat][0]\n",
    "    \n",
    "    def create_past_feat(feat, n):\n",
    "        \n",
    "        past_feat = feat + '_p' + str(n)\n",
    "        data[past_feat] = [select_past(p_id, feat, s_ix, n) for p_id, s_ix in zip(data['player_id'], data['season_index'])]\n",
    "        \n",
    "    for feature in features:\n",
    "        for i in range(1, n + 1):\n",
    "            create_past_feat(feature, i)\n",
    "            \n",
    "    return data\n",
    "\n",
    "# pick out only the columns that will be fed into the model for predictions\n",
    "features = ['minutes_proportion', 'two_point_percentage', 'two_point_attempts', 'three_point_percentage',\n",
    "              'three_point_attempts', 'free_throw_percentage','free_throw_attempts', 'defensive_rebounds',\n",
    "              'offensive_rebounds', 'assists', 'steals', 'blocks', 'turnovers', 'personal_fouls']\n",
    "\n",
    "data = create_past_features(features, 1, data)"
   ]
  },
  {
   "cell_type": "code",
   "execution_count": 16,
   "metadata": {},
   "outputs": [],
   "source": [
    "data['age2'] = data['age'] ** 2\n",
    "data['age3'] = data['age'] ** 3"
   ]
  },
  {
   "cell_type": "markdown",
   "metadata": {},
   "source": [
    "### Split Train and Test"
   ]
  },
  {
   "cell_type": "code",
   "execution_count": 17,
   "metadata": {},
   "outputs": [],
   "source": [
    "train = data[data['train_test'] == 'train']\n",
    "test = data[data['train_test'] == 'test']"
   ]
  },
  {
   "cell_type": "markdown",
   "metadata": {},
   "source": [
    "### Determine Average Career Length in Each Set"
   ]
  },
  {
   "cell_type": "code",
   "execution_count": 18,
   "metadata": {},
   "outputs": [
    {
     "data": {
      "text/plain": [
       "9.782467532467532"
      ]
     },
     "execution_count": 18,
     "metadata": {},
     "output_type": "execute_result"
    }
   ],
   "source": [
    "# For training set\n",
    "career_lengths = []\n",
    "\n",
    "for player in train['player_id'].unique():\n",
    "    career_lengths.append(train[train['player_id'] == player]['total_seasons'][0])\n",
    "    \n",
    "np.mean(career_lengths)"
   ]
  },
  {
   "cell_type": "code",
   "execution_count": 19,
   "metadata": {},
   "outputs": [
    {
     "data": {
      "text/plain": [
       "9.83495145631068"
      ]
     },
     "execution_count": 19,
     "metadata": {},
     "output_type": "execute_result"
    }
   ],
   "source": [
    "# For testing set\n",
    "career_lengths = []\n",
    "\n",
    "for player in test['player_id'].unique():\n",
    "    career_lengths.append(test[test['player_id'] == player]['total_seasons'][0])\n",
    "    \n",
    "np.mean(career_lengths)"
   ]
  },
  {
   "cell_type": "code",
   "execution_count": 20,
   "metadata": {},
   "outputs": [
    {
     "data": {
      "text/plain": [
       "9.795620437956204"
      ]
     },
     "execution_count": 20,
     "metadata": {},
     "output_type": "execute_result"
    }
   ],
   "source": [
    "# For overall dataset\n",
    "career_lengths = []\n",
    "\n",
    "for player in data['player_id'].unique():\n",
    "    career_lengths.append(data[data['player_id'] == player]['total_seasons'][0])\n",
    "    \n",
    "np.mean(career_lengths)"
   ]
  },
  {
   "cell_type": "code",
   "execution_count": 21,
   "metadata": {},
   "outputs": [
    {
     "data": {
      "text/plain": [
       "22"
      ]
     },
     "execution_count": 21,
     "metadata": {},
     "output_type": "execute_result"
    }
   ],
   "source": [
    "data['total_seasons'].max()"
   ]
  },
  {
   "cell_type": "markdown",
   "metadata": {},
   "source": [
    "# Feature Correlations"
   ]
  },
  {
   "cell_type": "code",
   "execution_count": 22,
   "metadata": {},
   "outputs": [],
   "source": [
    "import matplotlib.pyplot as plt\n",
    "import seaborn as sns\n",
    "\n",
    "cfeatures = ['age', 'two_point_percentage', 'two_point_attempts', 'three_point_percentage',\n",
    "              'three_point_attempts', 'free_throw_percentage','free_throw_attempts', 'defensive_rebounds',\n",
    "              'offensive_rebounds', 'assists', 'steals', 'blocks', 'turnovers', 'personal_fouls']\n",
    "\n",
    "plt.figure(figsize=(11,9))\n",
    "plt.title('Feature Correlations')\n",
    "sns.heatmap(data[cfeatures].corr(), annot = True, cmap = 'RdYlBu');"
   ]
  },
  {
   "cell_type": "code",
   "execution_count": 23,
   "metadata": {},
   "outputs": [],
   "source": [
    "from collections import defaultdict\n",
    "\n",
    "# For each feature identify strongly correlated features\n",
    "\n",
    "corrs = data.corr()\n",
    "corr_dict = defaultdict(list)\n",
    "\n",
    "for feature in features:\n",
    "    feat_corrs = corrs[feature]\n",
    "    for feat, corr in zip(feat_corrs.index, feat_corrs.values):\n",
    "        if np.abs(corr) > 0.3 and feat != feature and feat[-2] == 'p':\n",
    "            corr_dict[feature].append((feat, corr))\n",
    "\n",
    "for key in corr_dict.keys():\n",
    "    corr_dict[key] = sorted(corr_dict[key], key=lambda tup: -tup[1])"
   ]
  },
  {
   "cell_type": "code",
   "execution_count": 24,
   "metadata": {},
   "outputs": [
    {
     "data": {
      "text/plain": [
       "[('two_point_attempts_p1', 0.8735978778811008),\n",
       " ('free_throw_attempts_p1', 0.5830658721201669),\n",
       " ('turnovers_p1', 0.434402235594975),\n",
       " ('minutes_proportion_p1', 0.37350962550348216),\n",
       " ('three_point_attempts_p1', -0.38561584750492245)]"
      ]
     },
     "execution_count": 24,
     "metadata": {},
     "output_type": "execute_result"
    }
   ],
   "source": [
    "corr_dict['two_point_attempts']"
   ]
  },
  {
   "cell_type": "markdown",
   "metadata": {},
   "source": [
    "# Create Model for Two Point Attempts"
   ]
  },
  {
   "cell_type": "markdown",
   "metadata": {},
   "source": [
    "## LINEAR REGRESSION"
   ]
  },
  {
   "cell_type": "code",
   "execution_count": 25,
   "metadata": {},
   "outputs": [],
   "source": [
    "from sklearn.linear_model import LinearRegression"
   ]
  },
  {
   "cell_type": "code",
   "execution_count": 26,
   "metadata": {},
   "outputs": [],
   "source": [
    "lin_model = LinearRegression()"
   ]
  },
  {
   "cell_type": "code",
   "execution_count": 27,
   "metadata": {},
   "outputs": [],
   "source": [
    "tpa_feats = ['age', 'age2', 'age3', 'two_point_attempts_p1', 'free_throw_attempts_p1']"
   ]
  },
  {
   "cell_type": "code",
   "execution_count": 28,
   "metadata": {},
   "outputs": [],
   "source": [
    "X_train = train[train['season_index'] >= 1][tpa_feats]\n",
    "y_train = train[train['season_index'] >= 1]['two_point_attempts']\n",
    "X_test = test[test['season_index'] >= 1][tpa_feats]\n",
    "y_test = test[test['season_index'] >= 1]['two_point_attempts']"
   ]
  },
  {
   "cell_type": "code",
   "execution_count": 29,
   "metadata": {},
   "outputs": [
    {
     "data": {
      "text/plain": [
       "LinearRegression(copy_X=True, fit_intercept=True, n_jobs=None,\n",
       "         normalize=False)"
      ]
     },
     "execution_count": 29,
     "metadata": {},
     "output_type": "execute_result"
    }
   ],
   "source": [
    "lin_model.fit(X_train, y_train)"
   ]
  },
  {
   "cell_type": "code",
   "execution_count": 30,
   "metadata": {},
   "outputs": [],
   "source": [
    "from sklearn.metrics import mean_absolute_error, mean_squared_error"
   ]
  },
  {
   "cell_type": "code",
   "execution_count": 31,
   "metadata": {},
   "outputs": [],
   "source": [
    "def evaluate_general_model(model, X_data, y_data, sig = False, mae = True):\n",
    "    \n",
    "    preds = model.predict(X_data)\n",
    "    \n",
    "    if sig == True:\n",
    "        preds = sigmoid(preds)\n",
    "        y_data = sigmoid(y_data)\n",
    "    \n",
    "    if mae:\n",
    "        return mean_absolute_error(y_data, preds)\n",
    "    else:\n",
    "        return mean_squared_error(y_data, preds)"
   ]
  },
  {
   "cell_type": "code",
   "execution_count": 32,
   "metadata": {},
   "outputs": [
    {
     "data": {
      "text/plain": [
       "1.2566417499701215"
      ]
     },
     "execution_count": 32,
     "metadata": {},
     "output_type": "execute_result"
    }
   ],
   "source": [
    "evaluate_general_model(lin_model, X_train, y_train)"
   ]
  },
  {
   "cell_type": "code",
   "execution_count": 33,
   "metadata": {},
   "outputs": [
    {
     "data": {
      "text/plain": [
       "1.2453173943832998"
      ]
     },
     "execution_count": 33,
     "metadata": {},
     "output_type": "execute_result"
    }
   ],
   "source": [
    "evaluate_general_model(lin_model, X_test, y_test)"
   ]
  },
  {
   "cell_type": "markdown",
   "metadata": {},
   "source": [
    "## RANDOM FOREST REGRESSION"
   ]
  },
  {
   "cell_type": "code",
   "execution_count": 34,
   "metadata": {},
   "outputs": [],
   "source": [
    "from sklearn.ensemble import RandomForestRegressor"
   ]
  },
  {
   "cell_type": "code",
   "execution_count": 35,
   "metadata": {},
   "outputs": [],
   "source": [
    "rf_model = RandomForestRegressor(n_estimators = 50, max_depth = 5)"
   ]
  },
  {
   "cell_type": "code",
   "execution_count": 36,
   "metadata": {},
   "outputs": [
    {
     "data": {
      "text/plain": [
       "RandomForestRegressor(bootstrap=True, criterion='mse', max_depth=5,\n",
       "           max_features='auto', max_leaf_nodes=None,\n",
       "           min_impurity_decrease=0.0, min_impurity_split=None,\n",
       "           min_samples_leaf=1, min_samples_split=2,\n",
       "           min_weight_fraction_leaf=0.0, n_estimators=50, n_jobs=None,\n",
       "           oob_score=False, random_state=None, verbose=0, warm_start=False)"
      ]
     },
     "execution_count": 36,
     "metadata": {},
     "output_type": "execute_result"
    }
   ],
   "source": [
    "rf_model.fit(X_train, y_train)"
   ]
  },
  {
   "cell_type": "code",
   "execution_count": 37,
   "metadata": {},
   "outputs": [
    {
     "data": {
      "text/plain": [
       "1.2248886912946888"
      ]
     },
     "execution_count": 37,
     "metadata": {},
     "output_type": "execute_result"
    }
   ],
   "source": [
    "evaluate_general_model(rf_model, X_train, y_train)"
   ]
  },
  {
   "cell_type": "code",
   "execution_count": 38,
   "metadata": {},
   "outputs": [
    {
     "data": {
      "text/plain": [
       "1.2671101187722758"
      ]
     },
     "execution_count": 38,
     "metadata": {},
     "output_type": "execute_result"
    }
   ],
   "source": [
    "evaluate_general_model(rf_model, X_test, y_test)"
   ]
  },
  {
   "cell_type": "markdown",
   "metadata": {},
   "source": [
    "## GRADIENT BOOSTED TREE"
   ]
  },
  {
   "cell_type": "code",
   "execution_count": 39,
   "metadata": {},
   "outputs": [],
   "source": [
    "from sklearn.ensemble import GradientBoostingRegressor"
   ]
  },
  {
   "cell_type": "code",
   "execution_count": 40,
   "metadata": {},
   "outputs": [],
   "source": [
    "grad_model = GradientBoostingRegressor(n_estimators=100)"
   ]
  },
  {
   "cell_type": "code",
   "execution_count": 41,
   "metadata": {},
   "outputs": [
    {
     "data": {
      "text/plain": [
       "GradientBoostingRegressor(alpha=0.9, criterion='friedman_mse', init=None,\n",
       "             learning_rate=0.1, loss='ls', max_depth=3, max_features=None,\n",
       "             max_leaf_nodes=None, min_impurity_decrease=0.0,\n",
       "             min_impurity_split=None, min_samples_leaf=1,\n",
       "             min_samples_split=2, min_weight_fraction_leaf=0.0,\n",
       "             n_estimators=100, n_iter_no_change=None, presort='auto',\n",
       "             random_state=None, subsample=1.0, tol=0.0001,\n",
       "             validation_fraction=0.1, verbose=0, warm_start=False)"
      ]
     },
     "execution_count": 41,
     "metadata": {},
     "output_type": "execute_result"
    }
   ],
   "source": [
    "grad_model.fit(X_train, y_train)"
   ]
  },
  {
   "cell_type": "code",
   "execution_count": 42,
   "metadata": {},
   "outputs": [
    {
     "data": {
      "text/plain": [
       "1.2003889138703596"
      ]
     },
     "execution_count": 42,
     "metadata": {},
     "output_type": "execute_result"
    }
   ],
   "source": [
    "evaluate_general_model(grad_model, X_train, y_train)"
   ]
  },
  {
   "cell_type": "code",
   "execution_count": 43,
   "metadata": {},
   "outputs": [
    {
     "data": {
      "text/plain": [
       "1.2681779070375492"
      ]
     },
     "execution_count": 43,
     "metadata": {},
     "output_type": "execute_result"
    }
   ],
   "source": [
    "evaluate_general_model(grad_model, X_test, y_test)"
   ]
  },
  {
   "cell_type": "markdown",
   "metadata": {},
   "source": [
    "## NOTES"
   ]
  },
  {
   "cell_type": "markdown",
   "metadata": {},
   "source": [
    "It appears that the linear model has the best performance.\n",
    "\n",
    "Create some synthetic data to see impact of age on future predictions."
   ]
  },
  {
   "cell_type": "code",
   "execution_count": 44,
   "metadata": {},
   "outputs": [
    {
     "data": {
      "text/plain": [
       "9.425971883497416"
      ]
     },
     "execution_count": 44,
     "metadata": {},
     "output_type": "execute_result"
    }
   ],
   "source": [
    "data['two_point_attempts'].mean()"
   ]
  },
  {
   "cell_type": "code",
   "execution_count": 45,
   "metadata": {},
   "outputs": [
    {
     "data": {
      "text/plain": [
       "3.5875056835094803"
      ]
     },
     "execution_count": 45,
     "metadata": {},
     "output_type": "execute_result"
    }
   ],
   "source": [
    "data['free_throw_attempts'].mean()"
   ]
  },
  {
   "cell_type": "code",
   "execution_count": 96,
   "metadata": {},
   "outputs": [
    {
     "name": "stderr",
     "output_type": "stream",
     "text": [
      "/Users/alex/anaconda3/lib/python3.7/site-packages/ipykernel_launcher.py:16: SettingWithCopyWarning: \n",
      "A value is trying to be set on a copy of a slice from a DataFrame.\n",
      "Try using .loc[row_indexer,col_indexer] = value instead\n",
      "\n",
      "See the caveats in the documentation: https://pandas.pydata.org/pandas-docs/stable/user_guide/indexing.html#returning-a-view-versus-a-copy\n",
      "  app.launch_new_instance()\n"
     ]
    },
    {
     "data": {
      "image/png": "[encoded data removed]",
      "text/plain": [
       "<Figure size 720x432 with 1 Axes>"
      ]
     },
     "metadata": {
      "needs_background": "light"
     },
     "output_type": "display_data"
    }
   ],
   "source": [
    "syn_age = np.linspace(18, 38, 100)\n",
    "syn_age2 = np.linspace(18, 38, 100) ** 2\n",
    "syn_age3 = np.linspace(18, 38, 100) ** 3\n",
    "tpas = np.ones((100,1))* 9.4\n",
    "ftas = np.ones((100,1))* 3.6\n",
    "\n",
    "syn_data = np.hstack((syn_age.reshape(-1,1), syn_age2.reshape(-1,1), syn_age3.reshape(-1,1), tpas, ftas))\n",
    "syn_data = pd.DataFrame(syn_data, columns=tpa_feats)\n",
    "\n",
    "preds = lin_model.predict(syn_data)\n",
    "\n",
    "syn_data['two_point_attempts'] = preds\n",
    "\n",
    "syn_preds = syn_data[['age', 'two_point_attempts']]\n",
    "\n",
    "syn_preds['two_point_attempts'] = np.array(syn_preds['two_point_attempts']) - 9.4\n",
    "\n",
    "\n",
    "plt.figure(figsize=(10,6))\n",
    "plt.title('Adjustments to Two Point Attempts vs Age')\n",
    "plt.grid()\n",
    "sns.lineplot(x = syn_preds['age'], y = syn_preds['two_point_attempts'])\n",
    "plt.ylabel('Adjustments to Two Point Attempts');"
   ]
  },
  {
   "cell_type": "markdown",
   "metadata": {},
   "source": [
    "# Create General Model for All Stats"
   ]
  },
  {
   "cell_type": "markdown",
   "metadata": {},
   "source": [
    "## Create Dictionary of Features\n",
    "\n",
    "which past features to use for predictions of each new feature"
   ]
  },
  {
   "cell_type": "code",
   "execution_count": 47,
   "metadata": {},
   "outputs": [],
   "source": [
    "# # try dumping all correlated features into feat_dict for every feature.\n",
    "# feat_dict = defaultdict(list)\n",
    "# for feat in list(corr_dict.keys())[1:]:\n",
    "#     for corr in corr_dict[feat]:\n",
    "#         if corr[0] != 'minutes_proportion_p1':\n",
    "#             feat_dict[feat].append(corr[0])"
   ]
  },
  {
   "cell_type": "code",
   "execution_count": 48,
   "metadata": {},
   "outputs": [],
   "source": [
    "# try dumping ALL features into feat_dict for every feature.\n",
    "feat_dict = {}\n",
    "for feat in list(corr_dict.keys())[1:]:\n",
    "    feat_dict[feat] = ['two_point_percentage_p1', 'two_point_attempts_p1',\n",
    "       'three_point_percentage_p1', 'three_point_attempts_p1',\n",
    "       'free_throw_percentage_p1', 'free_throw_attempts_p1',\n",
    "       'defensive_rebounds_p1', 'offensive_rebounds_p1', 'assists_p1',\n",
    "       'steals_p1', 'blocks_p1', 'turnovers_p1', 'personal_fouls_p1']"
   ]
  },
  {
   "cell_type": "code",
   "execution_count": 49,
   "metadata": {},
   "outputs": [],
   "source": [
    "for key in feat_dict.keys():\n",
    "    feat_dict[key] = feat_dict[key] + ['age', 'age2', 'age3']"
   ]
  },
  {
   "cell_type": "code",
   "execution_count": 50,
   "metadata": {},
   "outputs": [],
   "source": [
    "targets = list(feat_dict.keys())"
   ]
  },
  {
   "cell_type": "markdown",
   "metadata": {},
   "source": [
    "## Define Multi Model Class"
   ]
  },
  {
   "cell_type": "code",
   "execution_count": 51,
   "metadata": {},
   "outputs": [],
   "source": [
    "class MultiModelContainer:\n",
    "    \n",
    "    '''\n",
    "    Object to function as a container for multiple linear models.\n",
    "    Initialize with a dictionary where keys are targets and values are lists of features.\n",
    "    '''\n",
    "    \n",
    "    def __init__(self, feature_dict, data):\n",
    "        \n",
    "        self.model_dict = {}\n",
    "        self.feature_dict = feature_dict\n",
    "        \n",
    "        # initialize and fit models\n",
    "        for target in feature_dict.keys():\n",
    "            features = feature_dict[target]\n",
    "            self.model_dict[target] = LinearRegression().fit(data[features], data[target])    \n",
    "\n",
    "    def predict(self, targets, data, output_df = False, input_df = True, feature_map = None):\n",
    "        \n",
    "        switch = False\n",
    "        \n",
    "        for target in targets:\n",
    "            # select features for target\n",
    "            features = self.feature_dict[target]\n",
    "            \n",
    "            if input_df:\n",
    "                # select model and input data for prediction\n",
    "                preds = self.model_dict[target].predict(data[features])\n",
    "            else:\n",
    "                # if not using a df use feature map to select data from an array\n",
    "                X = np.hstack(tuple([data[:,feature_map[feature]] for feature in features]))\n",
    "                preds = self.model_dict[target].predict(X.reshape(-1,len(features)))\n",
    "            \n",
    "            if not switch:\n",
    "                predictions = preds.reshape(-1,1)\n",
    "                switch = True\n",
    "                \n",
    "            else:\n",
    "                predictions = np.hstack((predictions, preds.reshape(-1,1)))\n",
    "        \n",
    "        if not output_df:\n",
    "            return predictions\n",
    "        \n",
    "        else:\n",
    "            return pd.DataFrame(predictions, columns = targets, index = data.index)"
   ]
  },
  {
   "cell_type": "code",
   "execution_count": 52,
   "metadata": {},
   "outputs": [
    {
     "data": {
      "text/plain": [
       "dict_keys(['two_point_percentage', 'two_point_attempts', 'three_point_percentage', 'three_point_attempts', 'free_throw_percentage', 'free_throw_attempts', 'defensive_rebounds', 'offensive_rebounds', 'assists', 'steals', 'blocks', 'turnovers', 'personal_fouls'])"
      ]
     },
     "execution_count": 52,
     "metadata": {},
     "output_type": "execute_result"
    }
   ],
   "source": [
    "feat_dict.keys()"
   ]
  },
  {
   "cell_type": "code",
   "execution_count": 53,
   "metadata": {},
   "outputs": [],
   "source": [
    "X_train = train[train['season_index'] >= 1]\n",
    "X_test = test[test['season_index'] >= 1]"
   ]
  },
  {
   "cell_type": "code",
   "execution_count": 54,
   "metadata": {},
   "outputs": [],
   "source": [
    "MultiModel = MultiModelContainer(feat_dict, X_train)"
   ]
  },
  {
   "cell_type": "code",
   "execution_count": 55,
   "metadata": {},
   "outputs": [],
   "source": [
    "# Compile a dataframe of results\n",
    "\n",
    "results = defaultdict(list)\n",
    "\n",
    "for key in targets:\n",
    "    \n",
    "    feats = feat_dict[key]\n",
    "    \n",
    "    if key[-10:] == 'percentage':\n",
    "        \n",
    "        train_mae = evaluate_general_model(MultiModel.model_dict[key],\n",
    "                                                X_train[feats], X_train[key], sig = True)\n",
    "        test_mae = evaluate_general_model(MultiModel.model_dict[key],\n",
    "                                                X_test[feats], X_test[key], sig = True)\n",
    "        stddev = sigmoid(data[key]).std()\n",
    "        \n",
    "        results['train_mae'].append(np.round(train_mae, 3))\n",
    "        results['train_zscore'].append(np.round(train_mae/stddev, 3))\n",
    "        results['test_mae'].append(np.round(test_mae, 3))\n",
    "        results['test_zscore'].append(np.round(test_mae/stddev, 3))\n",
    "        \n",
    "    else:\n",
    "        train_mae = evaluate_general_model(MultiModel.model_dict[key], X_train[feats], X_train[key])\n",
    "        test_mae = evaluate_general_model(MultiModel.model_dict[key], X_test[feats], X_test[key])\n",
    "        stddev = data[key].std()\n",
    "        \n",
    "        results['train_mae'].append(np.round(train_mae, 3))\n",
    "        results['train_zscore'].append(np.round(train_mae/stddev, 3))\n",
    "        results['test_mae'].append(np.round(test_mae, 3))\n",
    "        results['test_zscore'].append(np.round(test_mae/stddev, 3))\n",
    "\n",
    "results = pd.DataFrame(results, index = feat_dict.keys())"
   ]
  },
  {
   "cell_type": "code",
   "execution_count": 56,
   "metadata": {},
   "outputs": [
    {
     "data": {
      "text/html": [
       "<div>\n",
       "<style scoped>\n",
       "    .dataframe tbody tr th:only-of-type {\n",
       "        vertical-align: middle;\n",
       "    }\n",
       "\n",
       "    .dataframe tbody tr th {\n",
       "        vertical-align: top;\n",
       "    }\n",
       "\n",
       "    .dataframe thead th {\n",
       "        text-align: right;\n",
       "    }\n",
       "</style>\n",
       "<table border=\"1\" class=\"dataframe\">\n",
       "  <thead>\n",
       "    <tr style=\"text-align: right;\">\n",
       "      <th></th>\n",
       "      <th>train_mae</th>\n",
       "      <th>train_zscore</th>\n",
       "      <th>test_mae</th>\n",
       "      <th>test_zscore</th>\n",
       "    </tr>\n",
       "  </thead>\n",
       "  <tbody>\n",
       "    <tr>\n",
       "      <th>two_point_percentage</th>\n",
       "      <td>0.032</td>\n",
       "      <td>0.600</td>\n",
       "      <td>0.031</td>\n",
       "      <td>0.582</td>\n",
       "    </tr>\n",
       "    <tr>\n",
       "      <th>two_point_attempts</th>\n",
       "      <td>1.237</td>\n",
       "      <td>0.371</td>\n",
       "      <td>1.243</td>\n",
       "      <td>0.373</td>\n",
       "    </tr>\n",
       "    <tr>\n",
       "      <th>three_point_percentage</th>\n",
       "      <td>0.077</td>\n",
       "      <td>0.419</td>\n",
       "      <td>0.073</td>\n",
       "      <td>0.397</td>\n",
       "    </tr>\n",
       "    <tr>\n",
       "      <th>three_point_attempts</th>\n",
       "      <td>0.644</td>\n",
       "      <td>0.267</td>\n",
       "      <td>0.599</td>\n",
       "      <td>0.249</td>\n",
       "    </tr>\n",
       "    <tr>\n",
       "      <th>free_throw_percentage</th>\n",
       "      <td>0.046</td>\n",
       "      <td>0.481</td>\n",
       "      <td>0.047</td>\n",
       "      <td>0.489</td>\n",
       "    </tr>\n",
       "    <tr>\n",
       "      <th>free_throw_attempts</th>\n",
       "      <td>0.702</td>\n",
       "      <td>0.402</td>\n",
       "      <td>0.703</td>\n",
       "      <td>0.403</td>\n",
       "    </tr>\n",
       "    <tr>\n",
       "      <th>defensive_rebounds</th>\n",
       "      <td>0.577</td>\n",
       "      <td>0.309</td>\n",
       "      <td>0.584</td>\n",
       "      <td>0.313</td>\n",
       "    </tr>\n",
       "    <tr>\n",
       "      <th>offensive_rebounds</th>\n",
       "      <td>0.308</td>\n",
       "      <td>0.251</td>\n",
       "      <td>0.322</td>\n",
       "      <td>0.263</td>\n",
       "    </tr>\n",
       "    <tr>\n",
       "      <th>assists</th>\n",
       "      <td>0.567</td>\n",
       "      <td>0.267</td>\n",
       "      <td>0.582</td>\n",
       "      <td>0.273</td>\n",
       "    </tr>\n",
       "    <tr>\n",
       "      <th>steals</th>\n",
       "      <td>0.209</td>\n",
       "      <td>0.460</td>\n",
       "      <td>0.215</td>\n",
       "      <td>0.472</td>\n",
       "    </tr>\n",
       "    <tr>\n",
       "      <th>blocks</th>\n",
       "      <td>0.190</td>\n",
       "      <td>0.253</td>\n",
       "      <td>0.198</td>\n",
       "      <td>0.264</td>\n",
       "    </tr>\n",
       "    <tr>\n",
       "      <th>turnovers</th>\n",
       "      <td>0.306</td>\n",
       "      <td>0.449</td>\n",
       "      <td>0.320</td>\n",
       "      <td>0.469</td>\n",
       "    </tr>\n",
       "    <tr>\n",
       "      <th>personal_fouls</th>\n",
       "      <td>0.431</td>\n",
       "      <td>0.385</td>\n",
       "      <td>0.425</td>\n",
       "      <td>0.380</td>\n",
       "    </tr>\n",
       "  </tbody>\n",
       "</table>\n",
       "</div>"
      ],
      "text/plain": [
       "                        train_mae  train_zscore  test_mae  test_zscore\n",
       "two_point_percentage        0.032         0.600     0.031        0.582\n",
       "two_point_attempts          1.237         0.371     1.243        0.373\n",
       "three_point_percentage      0.077         0.419     0.073        0.397\n",
       "three_point_attempts        0.644         0.267     0.599        0.249\n",
       "free_throw_percentage       0.046         0.481     0.047        0.489\n",
       "free_throw_attempts         0.702         0.402     0.703        0.403\n",
       "defensive_rebounds          0.577         0.309     0.584        0.313\n",
       "offensive_rebounds          0.308         0.251     0.322        0.263\n",
       "assists                     0.567         0.267     0.582        0.273\n",
       "steals                      0.209         0.460     0.215        0.472\n",
       "blocks                      0.190         0.253     0.198        0.264\n",
       "turnovers                   0.306         0.449     0.320        0.469\n",
       "personal_fouls              0.431         0.385     0.425        0.380"
      ]
     },
     "execution_count": 56,
     "metadata": {},
     "output_type": "execute_result"
    }
   ],
   "source": [
    "# MAE for training and testing sets.\n",
    "results"
   ]
  },
  {
   "cell_type": "code",
   "execution_count": 57,
   "metadata": {},
   "outputs": [
    {
     "data": {
      "text/plain": [
       "train_zscore    4.914\n",
       "test_zscore     4.927\n",
       "dtype: float64"
      ]
     },
     "execution_count": 57,
     "metadata": {},
     "output_type": "execute_result"
    }
   ],
   "source": [
    "results.sum()[['train_zscore', 'test_zscore']]"
   ]
  },
  {
   "cell_type": "markdown",
   "metadata": {},
   "source": [
    "# Use Sequential Inputs to Predict Careers"
   ]
  },
  {
   "cell_type": "code",
   "execution_count": 58,
   "metadata": {},
   "outputs": [],
   "source": [
    "features = ['age', 'two_point_percentage', 'two_point_attempts', 'three_point_percentage',\n",
    "       'three_point_attempts', 'free_throw_percentage', 'free_throw_attempts',\n",
    "       'defensive_rebounds', 'offensive_rebounds', 'assists', 'steals',\n",
    "       'blocks', 'turnovers', 'personal_fouls', 'age2', 'age3']\n",
    "\n",
    "# map p1 features to column index of current version\n",
    "p1_features = ['age', 'two_point_percentage_p1', 'two_point_attempts_p1', 'three_point_percentage_p1',\n",
    "       'three_point_attempts_p1', 'free_throw_percentage_p1', 'free_throw_attempts_p1',\n",
    "       'defensive_rebounds_p1', 'offensive_rebounds_p1', 'assists_p1', 'steals_p1',\n",
    "       'blocks_p1', 'turnovers_p1', 'personal_fouls_p1', 'age2', 'age3']\n",
    "\n",
    "feature_map = {}\n",
    "\n",
    "for feat in p1_features:\n",
    "    feature_map[feat] = p1_features.index(feat)\n",
    "    \n",
    "targets = ['two_point_percentage', 'two_point_attempts', 'three_point_percentage',\n",
    "       'three_point_attempts', 'free_throw_percentage', 'free_throw_attempts',\n",
    "       'defensive_rebounds', 'offensive_rebounds', 'assists', 'steals',\n",
    "       'blocks', 'turnovers', 'personal_fouls']"
   ]
  },
  {
   "cell_type": "code",
   "execution_count": 59,
   "metadata": {},
   "outputs": [],
   "source": [
    "def predict_career(player_id, train_test, model, df = False):\n",
    "    \n",
    "    # get the players actual data and create seed for predictions\n",
    "    if train_test == 'train':\n",
    "        player_seq = train[train['player_id'] == player_id].sort_values(by = 'season_index')\n",
    "    else:\n",
    "        player_seq = test[test['player_id'] == player_id].sort_values(by = 'season_index')\n",
    "    \n",
    "    ix = player_seq.index\n",
    "    player_seq = np.array(player_seq[features])\n",
    "    total_seasons = player_seq.shape[0]\n",
    "    \n",
    "    seed = player_seq[0,:].reshape(1,-1)\n",
    "    \n",
    "    # iterate through total seasons and generate prediction based on each past prediction\n",
    "    for season in range(1, total_seasons):\n",
    "        \n",
    "        # get inputs for prediction, previous season stats and CURRENT age\n",
    "        pred_inputs = seed[-1,1:-2].reshape(1,-1)\n",
    "        current_age = np.array(player_seq[season,0]).reshape(1,-1)\n",
    "        pred_inputs = np.hstack((current_age, pred_inputs, current_age**2, current_age**3))\n",
    "        preds = model.predict(targets, pred_inputs, input_df = False, feature_map = feature_map)\n",
    "        \n",
    "        # append age features to prediction\n",
    "        current_age = np.array(current_age).reshape(1,-1)\n",
    "        preds = np.hstack((current_age, preds, current_age**2, current_age**3))\n",
    "        \n",
    "        # append predictions to seed\n",
    "        seed = np.vstack((seed, preds))\n",
    "    \n",
    "    # Convert logits back to percentages\n",
    "    for i, feat in enumerate(features):\n",
    "        if feat[-10:] == 'percentage':\n",
    "            seed[:,i] = sigmoid(seed[:,i])\n",
    "            player_seq[:, i] = sigmoid(player_seq[:, i])\n",
    "    \n",
    "    if df:\n",
    "        seed = pd.DataFrame(np.round(seed, 3), columns = features, index = ix)\n",
    "        errors = pd.DataFrame(np.round(seed - player_seq, 3), columns = features, index = ix)\n",
    "\n",
    "    else:\n",
    "        errors = seed - player_seq\n",
    "        \n",
    "    return seed, errors"
   ]
  },
  {
   "cell_type": "markdown",
   "metadata": {},
   "source": [
    "# Aggregate Errors over Full Career Predictions"
   ]
  },
  {
   "cell_type": "code",
   "execution_count": 60,
   "metadata": {},
   "outputs": [],
   "source": [
    "switch = 0\n",
    "\n",
    "for player in train['player_id'].unique():\n",
    "    pred, error = predict_career(player, 'train', MultiModel)\n",
    "    error = np.abs(error)[1:,:]\n",
    "    \n",
    "    if not switch:\n",
    "        train_error = error\n",
    "        train_pred = pred[1:,:]\n",
    "        switch = 1\n",
    "    else:\n",
    "        train_error = np.vstack((train_error, error))\n",
    "        train_pred = np.vstack((train_pred, pred[1:,:]))\n",
    "        \n",
    "total_seasons = train_error.shape[0]\n",
    "\n",
    "train_maes = np.sum(train_error, axis = 0) / total_seasons\n",
    "\n",
    "train_maes = pd.DataFrame(train_maes.reshape(1,-1), columns = features)"
   ]
  },
  {
   "cell_type": "code",
   "execution_count": 61,
   "metadata": {},
   "outputs": [],
   "source": [
    "switch = 0\n",
    "\n",
    "for player in test['player_id'].unique():\n",
    "    pred, error = predict_career(player, 'test', MultiModel)\n",
    "    error = np.abs(error)[1:,:]\n",
    "    \n",
    "    if not switch:\n",
    "        test_error = error\n",
    "        test_pred = pred[1:,:]\n",
    "        switch = 1\n",
    "    else:\n",
    "        test_error = np.vstack((test_error, error))\n",
    "        test_pred = np.vstack((test_pred, pred[1:,:]))\n",
    "        \n",
    "total_seasons = test_error.shape[0]\n",
    "\n",
    "test_maes = np.sum(test_error, axis = 0) / total_seasons\n",
    "\n",
    "test_maes = pd.DataFrame(test_maes.reshape(1,-1), columns = features)"
   ]
  },
  {
   "cell_type": "code",
   "execution_count": 62,
   "metadata": {},
   "outputs": [],
   "source": [
    "# Compile a dataframe of results\n",
    "\n",
    "results = defaultdict(list)\n",
    "\n",
    "for feat in features:\n",
    "    \n",
    "    if feat[-10:] == 'percentage':\n",
    "        \n",
    "        stddev = sigmoid(data[feat]).std()\n",
    "        \n",
    "        results['train_mae'].append(np.round(train_maes[feat][0], 3))\n",
    "        results['train_zscore'].append(np.round(train_maes[feat][0]/stddev, 3))\n",
    "        results['test_mae'].append(np.round(test_maes[feat][0], 3))\n",
    "        results['test_zscore'].append(np.round(test_maes[feat][0]/stddev, 3))\n",
    "        \n",
    "    else:\n",
    "        stddev = data[feat].std()\n",
    "        \n",
    "        results['train_mae'].append(np.round(train_maes[feat][0], 3))\n",
    "        results['train_zscore'].append(np.round(train_maes[feat][0]/stddev, 3))\n",
    "        results['test_mae'].append(np.round(test_maes[feat][0], 3))\n",
    "        results['test_zscore'].append(np.round(test_maes[feat][0]/stddev, 3))\n",
    "\n",
    "results = pd.DataFrame(results, index = features)"
   ]
  },
  {
   "cell_type": "code",
   "execution_count": 63,
   "metadata": {},
   "outputs": [
    {
     "data": {
      "text/html": [
       "<div>\n",
       "<style scoped>\n",
       "    .dataframe tbody tr th:only-of-type {\n",
       "        vertical-align: middle;\n",
       "    }\n",
       "\n",
       "    .dataframe tbody tr th {\n",
       "        vertical-align: top;\n",
       "    }\n",
       "\n",
       "    .dataframe thead th {\n",
       "        text-align: right;\n",
       "    }\n",
       "</style>\n",
       "<table border=\"1\" class=\"dataframe\">\n",
       "  <thead>\n",
       "    <tr style=\"text-align: right;\">\n",
       "      <th></th>\n",
       "      <th>train_mae</th>\n",
       "      <th>train_zscore</th>\n",
       "      <th>test_mae</th>\n",
       "      <th>test_zscore</th>\n",
       "    </tr>\n",
       "  </thead>\n",
       "  <tbody>\n",
       "    <tr>\n",
       "      <th>two_point_percentage</th>\n",
       "      <td>0.037</td>\n",
       "      <td>0.696</td>\n",
       "      <td>0.037</td>\n",
       "      <td>0.683</td>\n",
       "    </tr>\n",
       "    <tr>\n",
       "      <th>two_point_attempts</th>\n",
       "      <td>2.016</td>\n",
       "      <td>0.605</td>\n",
       "      <td>1.992</td>\n",
       "      <td>0.598</td>\n",
       "    </tr>\n",
       "    <tr>\n",
       "      <th>three_point_percentage</th>\n",
       "      <td>0.101</td>\n",
       "      <td>0.547</td>\n",
       "      <td>0.101</td>\n",
       "      <td>0.547</td>\n",
       "    </tr>\n",
       "    <tr>\n",
       "      <th>three_point_attempts</th>\n",
       "      <td>1.192</td>\n",
       "      <td>0.494</td>\n",
       "      <td>1.099</td>\n",
       "      <td>0.455</td>\n",
       "    </tr>\n",
       "    <tr>\n",
       "      <th>free_throw_percentage</th>\n",
       "      <td>0.058</td>\n",
       "      <td>0.601</td>\n",
       "      <td>0.058</td>\n",
       "      <td>0.609</td>\n",
       "    </tr>\n",
       "    <tr>\n",
       "      <th>free_throw_attempts</th>\n",
       "      <td>1.043</td>\n",
       "      <td>0.598</td>\n",
       "      <td>1.084</td>\n",
       "      <td>0.621</td>\n",
       "    </tr>\n",
       "    <tr>\n",
       "      <th>defensive_rebounds</th>\n",
       "      <td>0.805</td>\n",
       "      <td>0.431</td>\n",
       "      <td>0.830</td>\n",
       "      <td>0.445</td>\n",
       "    </tr>\n",
       "    <tr>\n",
       "      <th>offensive_rebounds</th>\n",
       "      <td>0.434</td>\n",
       "      <td>0.354</td>\n",
       "      <td>0.492</td>\n",
       "      <td>0.401</td>\n",
       "    </tr>\n",
       "    <tr>\n",
       "      <th>assists</th>\n",
       "      <td>0.861</td>\n",
       "      <td>0.405</td>\n",
       "      <td>0.838</td>\n",
       "      <td>0.394</td>\n",
       "    </tr>\n",
       "    <tr>\n",
       "      <th>steals</th>\n",
       "      <td>0.269</td>\n",
       "      <td>0.593</td>\n",
       "      <td>0.281</td>\n",
       "      <td>0.617</td>\n",
       "    </tr>\n",
       "    <tr>\n",
       "      <th>blocks</th>\n",
       "      <td>0.265</td>\n",
       "      <td>0.353</td>\n",
       "      <td>0.286</td>\n",
       "      <td>0.382</td>\n",
       "    </tr>\n",
       "    <tr>\n",
       "      <th>turnovers</th>\n",
       "      <td>0.420</td>\n",
       "      <td>0.615</td>\n",
       "      <td>0.411</td>\n",
       "      <td>0.602</td>\n",
       "    </tr>\n",
       "    <tr>\n",
       "      <th>personal_fouls</th>\n",
       "      <td>0.613</td>\n",
       "      <td>0.548</td>\n",
       "      <td>0.604</td>\n",
       "      <td>0.541</td>\n",
       "    </tr>\n",
       "  </tbody>\n",
       "</table>\n",
       "</div>"
      ],
      "text/plain": [
       "                        train_mae  train_zscore  test_mae  test_zscore\n",
       "two_point_percentage        0.037         0.696     0.037        0.683\n",
       "two_point_attempts          2.016         0.605     1.992        0.598\n",
       "three_point_percentage      0.101         0.547     0.101        0.547\n",
       "three_point_attempts        1.192         0.494     1.099        0.455\n",
       "free_throw_percentage       0.058         0.601     0.058        0.609\n",
       "free_throw_attempts         1.043         0.598     1.084        0.621\n",
       "defensive_rebounds          0.805         0.431     0.830        0.445\n",
       "offensive_rebounds          0.434         0.354     0.492        0.401\n",
       "assists                     0.861         0.405     0.838        0.394\n",
       "steals                      0.269         0.593     0.281        0.617\n",
       "blocks                      0.265         0.353     0.286        0.382\n",
       "turnovers                   0.420         0.615     0.411        0.602\n",
       "personal_fouls              0.613         0.548     0.604        0.541"
      ]
     },
     "execution_count": 63,
     "metadata": {},
     "output_type": "execute_result"
    }
   ],
   "source": [
    "results.drop(index = ['age', 'age2', 'age3'])"
   ]
  },
  {
   "cell_type": "code",
   "execution_count": 64,
   "metadata": {},
   "outputs": [
    {
     "data": {
      "text/plain": [
       "train_zscore    6.840\n",
       "test_zscore     6.895\n",
       "dtype: float64"
      ]
     },
     "execution_count": 64,
     "metadata": {},
     "output_type": "execute_result"
    }
   ],
   "source": [
    "results.sum()[['train_zscore', 'test_zscore']]"
   ]
  },
  {
   "cell_type": "markdown",
   "metadata": {},
   "source": [
    "## Degradation of Long Term Predictions"
   ]
  },
  {
   "cell_type": "code",
   "execution_count": 65,
   "metadata": {},
   "outputs": [
    {
     "data": {
      "image/png": "[encoded data removed]",
      "text/plain": [
       "<Figure size 720x432 with 1 Axes>"
      ]
     },
     "metadata": {
      "needs_background": "light"
     },
     "output_type": "display_data"
    }
   ],
   "source": [
    "error_by_season = {}\n",
    "\n",
    "for i in range(1,16):\n",
    "    error_by_season[i] = np.zeros((1,16))\n",
    "\n",
    "# aggregate errors by length of prediction into future\n",
    "for player in test['player_id'].unique():\n",
    "    pred, error = predict_career(player, 'test', MultiModel)\n",
    "    error = np.abs(error)[1:,:]\n",
    "\n",
    "    for i in range(np.min(np.array([15, error.shape[0]]))):\n",
    "        error_by_season[i+1] = np.vstack((error_by_season[i+1], error[i,:]))\n",
    "\n",
    "# convert errors into total score\n",
    "stddevs = np.array(data[features].std())\n",
    "\n",
    "for season in error_by_season.keys():\n",
    "    total_preds = error_by_season[season].shape[0] - 1\n",
    "    error_by_season[season] = np.sum(error_by_season[season], axis = 0) / total_preds\n",
    "    error_by_season[season] = np.sum(error_by_season[season].reshape(16,) / stddevs)\n",
    "    \n",
    "\n",
    "# plot the results\n",
    "plt.figure(figsize=(10,6))\n",
    "plt.title('Degradation of Test Set Predictions over Time')\n",
    "sns.scatterplot(list(error_by_season.keys()), list(error_by_season.values()))\n",
    "sns.lineplot(list(error_by_season.keys()), list(error_by_season.values()))\n",
    "plt.ylabel('Sum Z-scores')\n",
    "plt.xlabel('Seasons Beyond Rookie Season')\n",
    "plt.xticks(np.linspace(1,15,15));"
   ]
  },
  {
   "cell_type": "markdown",
   "metadata": {},
   "source": [
    "# Log Results"
   ]
  },
  {
   "cell_type": "code",
   "execution_count": 66,
   "metadata": {},
   "outputs": [],
   "source": [
    "from datetime import datetime\n",
    "\n",
    "def log_results(description, feat_dict, results, results_filename = None):\n",
    "    '''\n",
    "    INPUT: Description of session, feature_dict, results dataframe\n",
    "    OUPTUT: Creates an entry in results_log.txt which documents the trial\n",
    "    '''\n",
    "\n",
    "    with open('Results_Log/results_log.txt', 'a') as file:\n",
    "        entry = 'DATETIME: ' + str(datetime.now()) + '\\n\\n'\n",
    "        entry += 'DESCRIPTION: ' + description + '\\n\\n'\n",
    "        entry += 'RESULTS FILENAME: ' + results_filename + '\\n'\n",
    "        entry += 'TRAIN_MAE: ' + str(results.sum()['train_mae']) + '\\n'\n",
    "        entry += 'TRAIN_SCORE: ' + str(results.sum()['train_zscore']) + '\\n'\n",
    "        entry += 'TEST_MAE: ' + str(results.sum()['test_mae']) + '\\n'\n",
    "        entry += 'TEST_SCORE: ' + str(results.sum()['test_zscore']) + '\\n\\n'\n",
    "        file.write(entry)\n",
    "    \n",
    "    results.to_csv('Results_Log/results_log.txt', header = results.columns, sep='|', mode='a')\n",
    "    \n",
    "    with open('Results_Log/results_log.txt', 'a') as file:\n",
    "        entry = '\\n\\nFEATURES\\n\\n'\n",
    "\n",
    "        for key in feat_dict.keys():\n",
    "            entry += key + ': ' + str(feat_dict[key]) + '\\n'\n",
    "\n",
    "        entry += '\\n\\n****************************\\n\\n\\n'\n",
    "        \n",
    "        file.write(entry)\n",
    "    \n",
    "    if results_filename:\n",
    "        results.to_csv(filename)\n",
    "\n",
    "    print('Entry Logged')\n",
    "    "
   ]
  },
  {
   "cell_type": "code",
   "execution_count": 67,
   "metadata": {},
   "outputs": [],
   "source": [
    "# filename = 'Results_Log/Results/GRB3.csv'\n",
    "# log_results('Using GradientBoost model. All correlated features input to model.',\n",
    "#             feat_dict, results, results_filename = filename)"
   ]
  },
  {
   "cell_type": "markdown",
   "metadata": {},
   "source": [
    "# Predict Minutes\n",
    "\n",
    "Use per 36 stats to predict play time"
   ]
  },
  {
   "cell_type": "code",
   "execution_count": 68,
   "metadata": {},
   "outputs": [],
   "source": [
    "X_train = train[train['season_index'] >= 1][features + ['minutes_proportion_p1']]\n",
    "X_test = test[test['season_index'] >= 1][features + ['minutes_proportion_p1']]\n",
    "y_train = train[train['season_index'] >= 1]['minutes_proportion']\n",
    "y_test = test[test['season_index'] >= 1]['minutes_proportion']"
   ]
  },
  {
   "cell_type": "code",
   "execution_count": 69,
   "metadata": {},
   "outputs": [
    {
     "data": {
      "text/plain": [
       "LinearRegression(copy_X=True, fit_intercept=True, n_jobs=None,\n",
       "         normalize=False)"
      ]
     },
     "execution_count": 69,
     "metadata": {},
     "output_type": "execute_result"
    }
   ],
   "source": [
    "minutes_model = LinearRegression()\n",
    "\n",
    "minutes_model.fit(X_train, y_train)"
   ]
  },
  {
   "cell_type": "markdown",
   "metadata": {},
   "source": [
    "### Evaluate Individual Season Predictions "
   ]
  },
  {
   "cell_type": "code",
   "execution_count": 70,
   "metadata": {},
   "outputs": [],
   "source": [
    "mstd = np.std(sigmoid(np.array(data['minutes_proportion'])))"
   ]
  },
  {
   "cell_type": "code",
   "execution_count": 71,
   "metadata": {},
   "outputs": [
    {
     "name": "stdout",
     "output_type": "stream",
     "text": [
      "MAE:  0.08501165588832854\n",
      "Z-Score:  0.422143887854824\n"
     ]
    }
   ],
   "source": [
    "print(\"MAE: \", evaluate_general_model(minutes_model, X_train, y_train, sig = True))\n",
    "print(\"Z-Score: \", evaluate_general_model(minutes_model, X_train, y_train, sig = True)/mstd)"
   ]
  },
  {
   "cell_type": "code",
   "execution_count": 72,
   "metadata": {},
   "outputs": [
    {
     "name": "stdout",
     "output_type": "stream",
     "text": [
      "MAE:  0.0837727123427054\n",
      "Z-Score:  0.41599164390995813\n"
     ]
    }
   ],
   "source": [
    "print(\"MAE: \", evaluate_general_model(minutes_model, X_test, y_test, sig = True))\n",
    "print(\"Z-Score: \", evaluate_general_model(minutes_model, X_test, y_test, sig = True)/mstd)"
   ]
  },
  {
   "cell_type": "code",
   "execution_count": 99,
   "metadata": {},
   "outputs": [
    {
     "data": {
      "image/png": "[encoded data removed]",
      "text/plain": [
       "<Figure size 720x432 with 1 Axes>"
      ]
     },
     "metadata": {
      "needs_background": "light"
     },
     "output_type": "display_data"
    }
   ],
   "source": [
    "# affect of personal fouls on minutes played\n",
    "# assumes all other stats are average\n",
    "\n",
    "syn_data = np.matmul(np.diag(train[features + ['minutes_proportion_p1']].mean()),np.ones(shape = (17,100))).transpose()\n",
    "\n",
    "syn_data[:,-4] = np.linspace(0,5,num = 100)\n",
    "syn_data[:,4] = np.zeros(shape = (100,))\n",
    "\n",
    "syn_preds = minutes_model.predict(syn_data)\n",
    "\n",
    "plt.figure(figsize=(10,6))\n",
    "plt.grid()\n",
    "plt.title('Influence of Fouls on Minutes Played')\n",
    "sns.lineplot(x = syn_data[:,-4], y = sigmoid(syn_preds))\n",
    "plt.ylabel('Proportion of Minutes Played (Capped at 40 MPG)')\n",
    "plt.xlabel('Personal Fouls per 36 Minutes');"
   ]
  },
  {
   "cell_type": "markdown",
   "metadata": {},
   "source": [
    "### Evaluate full career predictions"
   ]
  },
  {
   "cell_type": "code",
   "execution_count": 74,
   "metadata": {},
   "outputs": [],
   "source": [
    "# append past minutes proportion to predictions\n",
    "train_pred = np.hstack((train_pred, np.array(train[train['season_index'] != 0]['minutes_proportion_p1']).reshape(-1,1)))\n",
    "test_pred = np.hstack((test_pred, np.array(test[test['season_index'] != 0]['minutes_proportion_p1']).reshape(-1,1)))"
   ]
  },
  {
   "cell_type": "code",
   "execution_count": 75,
   "metadata": {},
   "outputs": [
    {
     "name": "stdout",
     "output_type": "stream",
     "text": [
      "MAE:  0.10569634249034476\n",
      "Z-Score:  0.5248582030859492\n"
     ]
    }
   ],
   "source": [
    "train_minutes_pred = minutes_model.predict(train_pred)\n",
    "print(\"MAE: \", mean_absolute_error(sigmoid(train_minutes_pred), sigmoid(y_train)))\n",
    "print(\"Z-Score: \", mean_absolute_error(sigmoid(train_minutes_pred), sigmoid(y_train))/mstd)"
   ]
  },
  {
   "cell_type": "code",
   "execution_count": 76,
   "metadata": {},
   "outputs": [
    {
     "name": "stdout",
     "output_type": "stream",
     "text": [
      "MAE:  0.1055619419012423\n",
      "Z-Score:  0.5241908076962132\n"
     ]
    }
   ],
   "source": [
    "test_minutes_pred = minutes_model.predict(test_pred)\n",
    "print(\"MAE: \", mean_absolute_error(sigmoid(test_minutes_pred), sigmoid(y_test)))\n",
    "print(\"Z-Score: \", mean_absolute_error(sigmoid(test_minutes_pred), sigmoid(y_test))/mstd)"
   ]
  },
  {
   "cell_type": "markdown",
   "metadata": {},
   "source": [
    "# Train Models on All Data\n",
    "\n",
    "Now that the models and features are selected train them on all the data"
   ]
  },
  {
   "cell_type": "code",
   "execution_count": 77,
   "metadata": {},
   "outputs": [],
   "source": [
    "X_all = pd.concat([train[train['season_index'] >= 1], test[test['season_index'] >= 1]], axis = 0)"
   ]
  },
  {
   "cell_type": "code",
   "execution_count": 78,
   "metadata": {},
   "outputs": [],
   "source": [
    "FinalModel = MultiModelContainer(feat_dict, X_all)"
   ]
  },
  {
   "cell_type": "code",
   "execution_count": 79,
   "metadata": {},
   "outputs": [
    {
     "data": {
      "text/plain": [
       "LinearRegression(copy_X=True, fit_intercept=True, n_jobs=None,\n",
       "         normalize=False)"
      ]
     },
     "execution_count": 79,
     "metadata": {},
     "output_type": "execute_result"
    }
   ],
   "source": [
    "minutes_model = LinearRegression()\n",
    "\n",
    "minutes_model.fit(X_all[features + ['minutes_proportion_p1']], X_all['minutes_proportion'])"
   ]
  },
  {
   "cell_type": "markdown",
   "metadata": {},
   "source": [
    "## Evaluate Results"
   ]
  },
  {
   "cell_type": "markdown",
   "metadata": {},
   "source": [
    "### Individual Season Prediction Results"
   ]
  },
  {
   "cell_type": "code",
   "execution_count": 80,
   "metadata": {},
   "outputs": [],
   "source": [
    "# Compile a dataframe of results\n",
    "\n",
    "results = defaultdict(list)\n",
    "\n",
    "for key in targets:\n",
    "    \n",
    "    feats = feat_dict[key]\n",
    "    \n",
    "    if key[-10:] == 'percentage':\n",
    "        \n",
    "        train_mae = evaluate_general_model(MultiModel.model_dict[key],\n",
    "                                                X_all[feats], X_all[key], sig = True)\n",
    "        stddev = sigmoid(data[key]).std()\n",
    "        \n",
    "        results['train_mae'].append(np.round(train_mae, 3))\n",
    "        results['train_zscore'].append(np.round(train_mae/stddev, 3))\n",
    "        \n",
    "    else:\n",
    "        train_mae = evaluate_general_model(MultiModel.model_dict[key], X_all[feats], X_all[key])\n",
    "        stddev = data[key].std()\n",
    "        \n",
    "        results['train_mae'].append(np.round(train_mae, 3))\n",
    "        results['train_zscore'].append(np.round(train_mae/stddev, 3))\n",
    "\n",
    "results = pd.DataFrame(results, index = feat_dict.keys())"
   ]
  },
  {
   "cell_type": "code",
   "execution_count": 81,
   "metadata": {},
   "outputs": [
    {
     "data": {
      "text/html": [
       "<div>\n",
       "<style scoped>\n",
       "    .dataframe tbody tr th:only-of-type {\n",
       "        vertical-align: middle;\n",
       "    }\n",
       "\n",
       "    .dataframe tbody tr th {\n",
       "        vertical-align: top;\n",
       "    }\n",
       "\n",
       "    .dataframe thead th {\n",
       "        text-align: right;\n",
       "    }\n",
       "</style>\n",
       "<table border=\"1\" class=\"dataframe\">\n",
       "  <thead>\n",
       "    <tr style=\"text-align: right;\">\n",
       "      <th></th>\n",
       "      <th>train_mae</th>\n",
       "      <th>train_zscore</th>\n",
       "    </tr>\n",
       "  </thead>\n",
       "  <tbody>\n",
       "    <tr>\n",
       "      <th>two_point_percentage</th>\n",
       "      <td>0.032</td>\n",
       "      <td>0.595</td>\n",
       "    </tr>\n",
       "    <tr>\n",
       "      <th>two_point_attempts</th>\n",
       "      <td>1.239</td>\n",
       "      <td>0.372</td>\n",
       "    </tr>\n",
       "    <tr>\n",
       "      <th>three_point_percentage</th>\n",
       "      <td>0.076</td>\n",
       "      <td>0.413</td>\n",
       "    </tr>\n",
       "    <tr>\n",
       "      <th>three_point_attempts</th>\n",
       "      <td>0.632</td>\n",
       "      <td>0.262</td>\n",
       "    </tr>\n",
       "    <tr>\n",
       "      <th>free_throw_percentage</th>\n",
       "      <td>0.046</td>\n",
       "      <td>0.483</td>\n",
       "    </tr>\n",
       "    <tr>\n",
       "      <th>free_throw_attempts</th>\n",
       "      <td>0.702</td>\n",
       "      <td>0.403</td>\n",
       "    </tr>\n",
       "    <tr>\n",
       "      <th>defensive_rebounds</th>\n",
       "      <td>0.579</td>\n",
       "      <td>0.310</td>\n",
       "    </tr>\n",
       "    <tr>\n",
       "      <th>offensive_rebounds</th>\n",
       "      <td>0.312</td>\n",
       "      <td>0.254</td>\n",
       "    </tr>\n",
       "    <tr>\n",
       "      <th>assists</th>\n",
       "      <td>0.571</td>\n",
       "      <td>0.268</td>\n",
       "    </tr>\n",
       "    <tr>\n",
       "      <th>steals</th>\n",
       "      <td>0.210</td>\n",
       "      <td>0.463</td>\n",
       "    </tr>\n",
       "    <tr>\n",
       "      <th>blocks</th>\n",
       "      <td>0.192</td>\n",
       "      <td>0.256</td>\n",
       "    </tr>\n",
       "    <tr>\n",
       "      <th>turnovers</th>\n",
       "      <td>0.310</td>\n",
       "      <td>0.454</td>\n",
       "    </tr>\n",
       "    <tr>\n",
       "      <th>personal_fouls</th>\n",
       "      <td>0.429</td>\n",
       "      <td>0.384</td>\n",
       "    </tr>\n",
       "  </tbody>\n",
       "</table>\n",
       "</div>"
      ],
      "text/plain": [
       "                        train_mae  train_zscore\n",
       "two_point_percentage        0.032         0.595\n",
       "two_point_attempts          1.239         0.372\n",
       "three_point_percentage      0.076         0.413\n",
       "three_point_attempts        0.632         0.262\n",
       "free_throw_percentage       0.046         0.483\n",
       "free_throw_attempts         0.702         0.403\n",
       "defensive_rebounds          0.579         0.310\n",
       "offensive_rebounds          0.312         0.254\n",
       "assists                     0.571         0.268\n",
       "steals                      0.210         0.463\n",
       "blocks                      0.192         0.256\n",
       "turnovers                   0.310         0.454\n",
       "personal_fouls              0.429         0.384"
      ]
     },
     "execution_count": 81,
     "metadata": {},
     "output_type": "execute_result"
    }
   ],
   "source": [
    "results"
   ]
  },
  {
   "cell_type": "markdown",
   "metadata": {},
   "source": [
    "### Full Career Prediction Results"
   ]
  },
  {
   "cell_type": "code",
   "execution_count": 82,
   "metadata": {},
   "outputs": [],
   "source": [
    "switch = 0\n",
    "\n",
    "for player in train['player_id'].unique():\n",
    "    pred, error =predict_career(player, 'train', FinalModel)\n",
    "    error = np.abs(error)[1:,:]\n",
    "    \n",
    "    if not switch:\n",
    "        total_error = error\n",
    "        total_pred = pred[1:,:]\n",
    "        switch = 1\n",
    "    else:\n",
    "        total_error = np.vstack((total_error, error))\n",
    "        total_pred = np.vstack((total_pred, pred[1:,:]))\n",
    "        \n",
    "for player in test['player_id'].unique():\n",
    "    pred, error = predict_career(player, 'test', FinalModel)\n",
    "    error = np.abs(error)[1:,:]\n",
    "    total_error = np.vstack((total_error, error))\n",
    "    total_pred = np.vstack((total_pred, pred[1:,:]))\n",
    "    \n",
    "        \n",
    "total_seasons = total_error.shape[0]\n",
    "\n",
    "total_maes = np.sum(total_error, axis = 0) / total_seasons\n",
    "\n",
    "total_maes = pd.DataFrame(total_maes.reshape(1,-1), columns = features)"
   ]
  },
  {
   "cell_type": "code",
   "execution_count": 83,
   "metadata": {},
   "outputs": [],
   "source": [
    "# Compile a dataframe of results\n",
    "\n",
    "results = defaultdict(list)\n",
    "\n",
    "for feat in features:\n",
    "    \n",
    "    if feat[-10:] == 'percentage':\n",
    "        \n",
    "        stddev = sigmoid(data[feat]).std()\n",
    "        \n",
    "        results['total_mae'].append(np.round(total_maes[feat][0], 3))\n",
    "        results['total_zscore'].append(np.round(total_maes[feat][0]/stddev, 3))\n",
    "\n",
    "        \n",
    "    else:\n",
    "        stddev = data[feat].std()\n",
    "        \n",
    "        results['total_mae'].append(np.round(total_maes[feat][0], 3))\n",
    "        results['total_zscore'].append(np.round(total_maes[feat][0]/stddev, 3))\n",
    "\n",
    "results = pd.DataFrame(results, index = features)"
   ]
  },
  {
   "cell_type": "code",
   "execution_count": 84,
   "metadata": {},
   "outputs": [
    {
     "data": {
      "text/html": [
       "<div>\n",
       "<style scoped>\n",
       "    .dataframe tbody tr th:only-of-type {\n",
       "        vertical-align: middle;\n",
       "    }\n",
       "\n",
       "    .dataframe tbody tr th {\n",
       "        vertical-align: top;\n",
       "    }\n",
       "\n",
       "    .dataframe thead th {\n",
       "        text-align: right;\n",
       "    }\n",
       "</style>\n",
       "<table border=\"1\" class=\"dataframe\">\n",
       "  <thead>\n",
       "    <tr style=\"text-align: right;\">\n",
       "      <th></th>\n",
       "      <th>total_mae</th>\n",
       "      <th>total_zscore</th>\n",
       "    </tr>\n",
       "  </thead>\n",
       "  <tbody>\n",
       "    <tr>\n",
       "      <th>age</th>\n",
       "      <td>0.000</td>\n",
       "      <td>0.000</td>\n",
       "    </tr>\n",
       "    <tr>\n",
       "      <th>two_point_percentage</th>\n",
       "      <td>0.037</td>\n",
       "      <td>0.691</td>\n",
       "    </tr>\n",
       "    <tr>\n",
       "      <th>two_point_attempts</th>\n",
       "      <td>2.012</td>\n",
       "      <td>0.604</td>\n",
       "    </tr>\n",
       "    <tr>\n",
       "      <th>three_point_percentage</th>\n",
       "      <td>0.101</td>\n",
       "      <td>0.545</td>\n",
       "    </tr>\n",
       "    <tr>\n",
       "      <th>three_point_attempts</th>\n",
       "      <td>1.163</td>\n",
       "      <td>0.482</td>\n",
       "    </tr>\n",
       "    <tr>\n",
       "      <th>free_throw_percentage</th>\n",
       "      <td>0.058</td>\n",
       "      <td>0.603</td>\n",
       "    </tr>\n",
       "    <tr>\n",
       "      <th>free_throw_attempts</th>\n",
       "      <td>1.055</td>\n",
       "      <td>0.605</td>\n",
       "    </tr>\n",
       "    <tr>\n",
       "      <th>defensive_rebounds</th>\n",
       "      <td>0.805</td>\n",
       "      <td>0.431</td>\n",
       "    </tr>\n",
       "    <tr>\n",
       "      <th>offensive_rebounds</th>\n",
       "      <td>0.447</td>\n",
       "      <td>0.364</td>\n",
       "    </tr>\n",
       "    <tr>\n",
       "      <th>assists</th>\n",
       "      <td>0.861</td>\n",
       "      <td>0.404</td>\n",
       "    </tr>\n",
       "    <tr>\n",
       "      <th>steals</th>\n",
       "      <td>0.271</td>\n",
       "      <td>0.597</td>\n",
       "    </tr>\n",
       "    <tr>\n",
       "      <th>blocks</th>\n",
       "      <td>0.268</td>\n",
       "      <td>0.357</td>\n",
       "    </tr>\n",
       "    <tr>\n",
       "      <th>turnovers</th>\n",
       "      <td>0.419</td>\n",
       "      <td>0.614</td>\n",
       "    </tr>\n",
       "    <tr>\n",
       "      <th>personal_fouls</th>\n",
       "      <td>0.608</td>\n",
       "      <td>0.544</td>\n",
       "    </tr>\n",
       "    <tr>\n",
       "      <th>age2</th>\n",
       "      <td>0.000</td>\n",
       "      <td>0.000</td>\n",
       "    </tr>\n",
       "    <tr>\n",
       "      <th>age3</th>\n",
       "      <td>0.000</td>\n",
       "      <td>0.000</td>\n",
       "    </tr>\n",
       "  </tbody>\n",
       "</table>\n",
       "</div>"
      ],
      "text/plain": [
       "                        total_mae  total_zscore\n",
       "age                         0.000         0.000\n",
       "two_point_percentage        0.037         0.691\n",
       "two_point_attempts          2.012         0.604\n",
       "three_point_percentage      0.101         0.545\n",
       "three_point_attempts        1.163         0.482\n",
       "free_throw_percentage       0.058         0.603\n",
       "free_throw_attempts         1.055         0.605\n",
       "defensive_rebounds          0.805         0.431\n",
       "offensive_rebounds          0.447         0.364\n",
       "assists                     0.861         0.404\n",
       "steals                      0.271         0.597\n",
       "blocks                      0.268         0.357\n",
       "turnovers                   0.419         0.614\n",
       "personal_fouls              0.608         0.544\n",
       "age2                        0.000         0.000\n",
       "age3                        0.000         0.000"
      ]
     },
     "execution_count": 84,
     "metadata": {},
     "output_type": "execute_result"
    }
   ],
   "source": [
    "results"
   ]
  },
  {
   "cell_type": "code",
   "execution_count": 85,
   "metadata": {},
   "outputs": [
    {
     "data": {
      "text/plain": [
       "total_mae       8.105\n",
       "total_zscore    6.841\n",
       "dtype: float64"
      ]
     },
     "execution_count": 85,
     "metadata": {},
     "output_type": "execute_result"
    }
   ],
   "source": [
    "results.sum()"
   ]
  },
  {
   "cell_type": "markdown",
   "metadata": {},
   "source": [
    "### Predict Minutes Across Careers"
   ]
  },
  {
   "cell_type": "code",
   "execution_count": 86,
   "metadata": {},
   "outputs": [],
   "source": [
    "total_pred = np.hstack((total_pred, np.array(X_all['minutes_proportion_p1']).reshape(-1,1)))"
   ]
  },
  {
   "cell_type": "code",
   "execution_count": 87,
   "metadata": {},
   "outputs": [],
   "source": [
    "total_minutes_pred = minutes_model.predict(total_pred)"
   ]
  },
  {
   "cell_type": "code",
   "execution_count": 88,
   "metadata": {},
   "outputs": [
    {
     "data": {
      "text/plain": [
       "0.10654874634376672"
      ]
     },
     "execution_count": 88,
     "metadata": {},
     "output_type": "execute_result"
    }
   ],
   "source": [
    "mean_absolute_error(sigmoid(total_minutes_pred), sigmoid(X_all['minutes_proportion']))"
   ]
  },
  {
   "cell_type": "markdown",
   "metadata": {},
   "source": [
    "# Save Models"
   ]
  },
  {
   "cell_type": "code",
   "execution_count": 89,
   "metadata": {},
   "outputs": [],
   "source": [
    "import pickle\n",
    "\n",
    "with open('Models/FinalModel.pkl', 'wb') as file:\n",
    "    pickle.dump(FinalModel, file)\n",
    "    \n",
    "with open('Models/MinutesModel.pkl', 'wb') as file:\n",
    "    pickle.dump(minutes_model, file)"
   ]
  },
  {
   "cell_type": "code",
   "execution_count": null,
   "metadata": {},
   "outputs": [],
   "source": []
  }
 ],
 "metadata": {
  "kernelspec": {
   "display_name": "Python 3",
   "language": "python",
   "name": "python3"
  },
  "language_info": {
   "codemirror_mode": {
    "name": "ipython",
    "version": 3
   },
   "file_extension": ".py",
   "mimetype": "text/x-python",
   "name": "python",
   "nbconvert_exporter": "python",
   "pygments_lexer": "ipython3",
   "version": "3.7.3"
  }
 },
 "nbformat": 4,
 "nbformat_minor": 2
}
